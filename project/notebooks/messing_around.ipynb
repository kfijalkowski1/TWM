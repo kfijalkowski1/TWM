{
 "cells": [
  {
   "cell_type": "code",
   "execution_count": null,
   "id": "fb64c6f8",
   "metadata": {},
   "outputs": [],
   "source": [
    "# check whether imports are resolvable\n",
    "from twm.external.deeplab_v3plus.network import modeling  # noqa: F401, I001\n",
    "from twm.external.dehazeformer.models.dehazeformer import DehazeFormer  # noqa: F401, I001"
   ]
  }
 ],
 "metadata": {
  "kernelspec": {
   "display_name": ".venv",
   "language": "python",
   "name": "python3"
  },
  "language_info": {
   "codemirror_mode": {
    "name": "ipython",
    "version": 3
   },
   "file_extension": ".py",
   "mimetype": "text/x-python",
   "name": "python",
   "nbconvert_exporter": "python",
   "pygments_lexer": "ipython3",
   "version": "3.13.3"
  }
 },
 "nbformat": 4,
 "nbformat_minor": 5
}

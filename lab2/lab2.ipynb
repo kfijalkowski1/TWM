{
 "cells": [
  {
   "cell_type": "code",
   "id": "initial_id",
   "metadata": {
    "collapsed": true,
    "ExecuteTime": {
     "end_time": "2025-03-21T13:49:49.082760Z",
     "start_time": "2025-03-21T13:49:46.526097Z"
    }
   },
   "source": "%pip install opencv-python numpy",
   "outputs": [
    {
     "name": "stdout",
     "output_type": "stream",
     "text": [
      "Requirement already satisfied: opencv-python in c:\\data\\studies\\inz\\repo-back\\.venv\\lib\\site-packages (4.11.0.86)\n",
      "Requirement already satisfied: numpy in c:\\data\\studies\\inz\\repo-back\\.venv\\lib\\site-packages (2.2.4)\n",
      "Note: you may need to restart the kernel to use updated packages.\n"
     ]
    },
    {
     "name": "stderr",
     "output_type": "stream",
     "text": [
      "\n",
      "[notice] A new release of pip is available: 24.3.1 -> 25.0.1\n",
      "[notice] To update, run: python.exe -m pip install --upgrade pip\n"
     ]
    }
   ],
   "execution_count": 30
  },
  {
   "metadata": {
    "ExecuteTime": {
     "end_time": "2025-03-21T13:49:49.097655Z",
     "start_time": "2025-03-21T13:49:49.092291Z"
    }
   },
   "cell_type": "code",
   "source": [
    "# Define the color bounds for the mask\n",
    "# YELLOW\n",
    "Y_LOW_BOUND = (0.084, 0.606, 0.000)\n",
    "Y_UP_BOUND = (0.171, 1.000, 1.000)\n",
    "\n",
    "# RED\n",
    "R_LOW_BOUND = (0.926, 0.629, 0.405)\n",
    "R_UP_BOUND = (0.069, 1.000, 1.000)\n"
   ],
   "id": "66183f2f152d72ea",
   "outputs": [],
   "execution_count": 31
  },
  {
   "metadata": {
    "ExecuteTime": {
     "end_time": "2025-03-21T13:49:49.129135Z",
     "start_time": "2025-03-21T13:49:49.123404Z"
    }
   },
   "cell_type": "code",
   "source": [
    "import cv2\n",
    "import numpy as np\n",
    "\n",
    "def create_mask(image, color_lower_bound: tuple[float], color_upper_bound: tuple[float]):\n",
    "\n",
    "    hsv_image = cv2.cvtColor(image, cv2.COLOR_BGR2HSV)\n",
    "\n",
    "    lower_bound = np.array([color_lower_bound[0] * 179, color_lower_bound[1] * 255, color_lower_bound[2] * 255], dtype=np.uint8)\n",
    "    upper_bound = np.array([color_upper_bound[0] * 179, color_upper_bound[1] * 255, color_upper_bound[2] * 255], dtype=np.uint8)\n",
    "\n",
    "    # Create mask using inRange function\n",
    "    cr_mask = cv2.inRange(hsv_image, lower_bound, upper_bound)\n",
    "\n",
    "    # Apply mask to the original image\n",
    "    masked_rgb_image = cv2.bitwise_and(image, image, mask=cr_mask)\n",
    "\n",
    "    return mask, masked_rgb_image\n"
   ],
   "id": "7acd85f15ac2b429",
   "outputs": [],
   "execution_count": 32
  },
  {
   "metadata": {
    "ExecuteTime": {
     "end_time": "2025-03-21T13:50:08.377718Z",
     "start_time": "2025-03-21T13:50:05.395779Z"
    }
   },
   "cell_type": "code",
   "source": [
    "# Example usage\n",
    "image_path = \"test.jpg\"  # Replace with your image path\n",
    "mask, masked_image = create_mask(cv2.imread(image_path), R_LOW_BOUND, R_UP_BOUND)\n",
    "\n",
    "# Display results\n",
    "cv2.imshow(\"Mask\", mask)\n",
    "cv2.imshow(\"Masked Image\", masked_image)\n",
    "cv2.waitKey(0)\n",
    "cv2.destroyAllWindows()"
   ],
   "id": "59b50aa91e802db8",
   "outputs": [],
   "execution_count": 34
  }
 ],
 "metadata": {
  "kernelspec": {
   "display_name": "Python 3",
   "language": "python",
   "name": "python3"
  },
  "language_info": {
   "codemirror_mode": {
    "name": "ipython",
    "version": 2
   },
   "file_extension": ".py",
   "mimetype": "text/x-python",
   "name": "python",
   "nbconvert_exporter": "python",
   "pygments_lexer": "ipython2",
   "version": "2.7.6"
  }
 },
 "nbformat": 4,
 "nbformat_minor": 5
}

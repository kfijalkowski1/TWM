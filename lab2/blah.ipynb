{
 "cells": [
  {
   "cell_type": "code",
   "execution_count": 1,
   "metadata": {
    "ExecuteTime": {
     "end_time": "2025-03-25T18:43:41.681204Z",
     "start_time": "2025-03-25T18:43:41.676395Z"
    }
   },
   "outputs": [
    {
     "ename": "ModuleNotFoundError",
     "evalue": "No module named 'cv2'",
     "output_type": "error",
     "traceback": [
      "\u001b[0;31m---------------------------------------------------------------------------\u001b[0m",
      "\u001b[0;31mModuleNotFoundError\u001b[0m                       Traceback (most recent call last)",
      "Cell \u001b[0;32mIn [1], line 5\u001b[0m\n\u001b[1;32m      2\u001b[0m \u001b[38;5;28;01mfrom\u001b[39;00m \u001b[38;5;21;01mpathlib\u001b[39;00m \u001b[38;5;28;01mimport\u001b[39;00m Path\n\u001b[1;32m      3\u001b[0m \u001b[38;5;28;01mfrom\u001b[39;00m \u001b[38;5;21;01mtyping\u001b[39;00m \u001b[38;5;28;01mimport\u001b[39;00m Any\n\u001b[0;32m----> 5\u001b[0m \u001b[38;5;28;01mimport\u001b[39;00m \u001b[38;5;21;01mcv2\u001b[39;00m\n\u001b[1;32m      6\u001b[0m \u001b[38;5;28;01mfrom\u001b[39;00m \u001b[38;5;21;01mcv2\u001b[39;00m \u001b[38;5;28;01mimport\u001b[39;00m Mat, UMat\n\u001b[1;32m      7\u001b[0m \u001b[38;5;28;01mfrom\u001b[39;00m \u001b[38;5;21;01mmatplotlib\u001b[39;00m \u001b[38;5;28;01mimport\u001b[39;00m pyplot \u001b[38;5;28;01mas\u001b[39;00m plt   \n",
      "\u001b[0;31mModuleNotFoundError\u001b[0m: No module named 'cv2'"
     ]
    }
   ],
   "source": [
    "from functools import partial\n",
    "from pathlib import Path\n",
    "from typing import Any\n",
    "\n",
    "import cv2\n",
    "from cv2 import Mat, UMat\n",
    "from matplotlib import pyplot as plt   \n",
    "import numpy as np\n",
    "from pprint import pprint\n",
    "\n",
    "from numpy import ndarray, dtype"
   ]
  },
  {
   "cell_type": "code",
   "execution_count": null,
   "metadata": {
    "ExecuteTime": {
     "end_time": "2025-03-25T18:43:42.815511Z",
     "start_time": "2025-03-25T18:43:41.689728Z"
    }
   },
   "outputs": [],
   "source": [
    "path = Path(\"img.jpg\")\n",
    "_img = cv2.imread(path)\n",
    "img_rgb = cv2.cvtColor(_img, cv2.COLOR_BGR2RGB)\n",
    "img_hsv = cv2.cvtColor(_img, cv2.COLOR_BGR2HSV)\n",
    "plt.imshow(img_rgb)"
   ]
  },
  {
   "cell_type": "code",
   "execution_count": null,
   "metadata": {
    "ExecuteTime": {
     "end_time": "2025-03-25T18:43:43.258090Z",
     "start_time": "2025-03-25T18:43:42.835786Z"
    }
   },
   "outputs": [],
   "source": [
    "cols = {\n",
    "    \"white\": ((.842, .000, .882), (.153, .126, 1.000)),\n",
    "    \"grey\": ((0.078, 0.038, 0.687), (0.211, 0.095, 0.851)),\n",
    "    \"black\": ((0.022, 0.000, 0.000), (0.245, 0.605, 0.469)),\n",
    "    \"red\": ((0.958, 0.431, 0.370), (0.074, 1.000, 1.000)), # DONE\n",
    "    \"yellow\": ((0.107, 0.373, 0.581), (0.201, 1.000, 1.000)), # DONE\n",
    "    \"light_green\": ((0.461, 0.123, 0.745), (0.559, 1.000, 1.000)),\n",
    "    \"dark_green\": ((0.308, 0.222, 0.000), (0.460, 1.000, 1.000)),\n",
    "    \"pink\": ((0.805, 0.190, 0.658), (0.965, 1.000, 1.000)),\n",
    "    \"dark_blue\": ((0.601, 0.264, 0.405), (0.662, 1.000, 0.965)),\n",
    "}\n",
    "def create_mask(color: str) -> Any:\n",
    "    color_lower_bound, color_upper_bound = cols[color]\n",
    "    lower_bound = (np.array(color_lower_bound) * np.array([179, 255, 255])).astype(np.uint8)\n",
    "    upper_bound = (np.array(color_upper_bound) * np.array([179, 255, 255])).astype(np.uint8)\n",
    "\n",
    "    # wrap around max value on H channel\n",
    "    if lower_bound[0] > upper_bound[0]:\n",
    "        cr_mask = cv2.inRange(img_hsv, lower_bound, np.array((179, upper_bound[1], upper_bound[2]), dtype=np.uint8))\n",
    "        cr_mask += cv2.inRange(img_hsv, np.array((0, lower_bound[1], lower_bound[2]), dtype=np.uint8), upper_bound)\n",
    "    else:\n",
    "        cr_mask = cv2.inRange(img_hsv, lower_bound, upper_bound)\n",
    "\n",
    "    morph_mask = cr_mask.copy()\n",
    "\n",
    "    kernels = {\n",
    "        2: np.ones((2, 2), np.uint8),\n",
    "        3: np.ones((3, 3), np.uint8),\n",
    "        5: np.ones((5, 5), np.uint8),\n",
    "        10: np.ones((10, 10), np.uint8)\n",
    "    }\n",
    "\n",
    "    morph_mask = cv2.erode(morph_mask, kernel=kernels[5], iterations=1)\n",
    "    morph_mask = cv2.dilate(morph_mask, kernel=kernels[5], iterations=1)\n",
    "    morph_mask = cv2.morphologyEx(morph_mask, op=cv2.MORPH_CLOSE, kernel=kernels[10], iterations=3)\n",
    "    morph_mask = cv2.morphologyEx(morph_mask, op=cv2.MORPH_OPEN, kernel=kernels[10], iterations=1)\n",
    "    return morph_mask, cr_mask\n",
    "\n",
    "\n",
    "color_masks = {}\n",
    "for col in cols.keys():\n",
    "    color_masks[col] = create_mask(col)[0]\n",
    "# region boring\n",
    "# fig, ax = plt.subplots(1, 2)\n",
    "# fig.set_size_inches(18.5, 10.5)\n",
    "# ax[0].imshow(cr_mask)\n",
    "# ax[1].imshow(morph_mask)\n",
    "# plt.show()\n",
    "# endregion"
   ]
  },
  {
   "cell_type": "code",
   "execution_count": null,
   "metadata": {
    "ExecuteTime": {
     "end_time": "2025-03-25T18:49:00.352798Z",
     "start_time": "2025-03-25T18:48:57.614552Z"
    }
   },
   "outputs": [],
   "source": [
    "def add_shapes(prepared_mask, image, cur_color):\n",
    "    contours, _ = cv2.findContours(prepared_mask, cv2.RETR_EXTERNAL, cv2.CHAIN_APPROX_SIMPLE)\n",
    "\n",
    "    # Draw contours and identify shapes\n",
    "    output_image = image.copy()\n",
    "    for contour in contours:\n",
    "        approx = cv2.approxPolyDP(contour, 0.04 * cv2.arcLength(contour, True), True)\n",
    "        x, y, w, h = cv2.boundingRect(approx)\n",
    "\n",
    "\n",
    "        ratio_thresh = 0.8\n",
    "\n",
    "        if not ratio_thresh < (w / h) < (1 / ratio_thresh):\n",
    "            shape_name = \"Unknown\"\n",
    "        elif len(approx) == 4:\n",
    "            shape_name = \"Rectangle\"\n",
    "        elif len(approx) > 4:\n",
    "            shape_name = \"Circle\"\n",
    "        else:\n",
    "            shape_name = \"Unknown\"\n",
    "\n",
    "        box_text = f\"{shape_name}, {cur_color}\"\n",
    "        # Draw bounding box with text\n",
    "        cv2.rectangle(output_image, (x, y), (x + w, y + h), (0, 255, 0), 2)\n",
    "\n",
    "        cv2.putText(output_image, box_text, (x, y - 10), cv2.FONT_HERSHEY_SIMPLEX, 1.2, (255, 255, 255), 3)\n",
    "\n",
    "    # fig, ax = plt.subplots(1, 2)\n",
    "    # fig.set_size_inches(18.5, 10.5)\n",
    "    # ax[0].imshow(output_image)\n",
    "    # ax[1].imshow(prepared_mask)\n",
    "    # plt.show()\n",
    "    return output_image\n",
    "\n",
    "final_image = add_shapes(color_masks[\"white\"], img_rgb, \"white\")\n",
    "for color, morph_mask in color_masks.items():\n",
    "    if color == \"white\":\n",
    "        continue\n",
    "    final_image = add_shapes(morph_mask, final_image, color)\n",
    "\n",
    "\n",
    "fig, ax = plt.subplots(1, 2)\n",
    "fig.set_size_inches(37, 21)\n",
    "ax[0].imshow(final_image)\n",
    "ax[1].imshow(sum(color_masks.values()))\n",
    "plt.show()"
   ]
  }
 ],
 "metadata": {
  "kernelspec": {
   "display_name": "Python 3 (ipykernel)",
   "language": "python",
   "name": "python3"
  },
  "language_info": {
   "codemirror_mode": {
    "name": "ipython",
    "version": 3
   },
   "file_extension": ".py",
   "mimetype": "text/x-python",
   "name": "python",
   "nbconvert_exporter": "python",
   "pygments_lexer": "ipython3",
   "version": "3.11.2"
  }
 },
 "nbformat": 4,
 "nbformat_minor": 2
}
